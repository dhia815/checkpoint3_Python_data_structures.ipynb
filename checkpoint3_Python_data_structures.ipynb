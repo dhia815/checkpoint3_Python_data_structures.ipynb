{
 "cells": [
  {
   "cell_type": "code",
   "execution_count": 40,
   "id": "999c057d",
   "metadata": {},
   "outputs": [
    {
     "name": "stdout",
     "output_type": "stream",
     "text": [
      "The result is 36\n"
     ]
    }
   ],
   "source": [
    "# Question 1 : \n",
    "L = [2, 3, 6]\n",
    "result = 1\n",
    "for i in L : \n",
    "    result *= i\n",
    "print(\"The result is\", result )"
   ]
  },
  {
   "cell_type": "code",
   "execution_count": 41,
   "id": "a8ee9931",
   "metadata": {},
   "outputs": [
    {
     "name": "stdout",
     "output_type": "stream",
     "text": [
      "[(2, 1), (1, 2), (2, 3), (4, 4), (2, 5)]\n"
     ]
    }
   ],
   "source": [
    "# Question 2 ; method 1 : \n",
    "def second_item(x):\n",
    "    return x [1]\n",
    "L = [(2, 5), (1, 2), (4, 4), (2, 3), (2, 1)]\n",
    "L.sort(key = second_item)\n",
    "print(L)"
   ]
  },
  {
   "cell_type": "code",
   "execution_count": 42,
   "id": "7595808c",
   "metadata": {},
   "outputs": [
    {
     "name": "stdout",
     "output_type": "stream",
     "text": [
      "[(2, 1), (1, 2), (2, 3), (4, 4), (2, 5)]\n"
     ]
    }
   ],
   "source": [
    "# Question 2 ; method 2 : \n",
    "L = [(2, 5), (1, 2), (4, 4), (2, 3), (2, 1)]\n",
    "result = []\n",
    "y = 0\n",
    "while L != []:\n",
    "    for item in L:\n",
    "        if item [1] == y:\n",
    "            result.append(item)\n",
    "            L.remove (item)\n",
    "    y += 1\n",
    "print(result)"
   ]
  },
  {
   "cell_type": "code",
   "execution_count": 43,
   "id": "b5029cd5",
   "metadata": {
    "scrolled": true
   },
   "outputs": [
    {
     "name": "stdout",
     "output_type": "stream",
     "text": [
      "{'a': 400, 'b': 400, 'd': 400, 'c': 300}\n"
     ]
    }
   ],
   "source": [
    "# Question 3 : \n",
    "d1 = {'a': 100, 'b': 200, 'c':300}\n",
    "d2 = {'a': 300, 'b': 200, 'd':400}\n",
    "result = {}\n",
    "\n",
    "for k2 in d2.keys():\n",
    "    if k2 in d1.keys():\n",
    "        result [k2] = d1 [k2] + d2 [k2]\n",
    "    else:\n",
    "        result [k2] = d2 [k2]\n",
    "for k1 in d1.keys():\n",
    "    if k1 not in result:\n",
    "        result [k1] = d1 [k1]\n",
    "print (result)"
   ]
  },
  {
   "cell_type": "code",
   "execution_count": 44,
   "id": "b90f3af3",
   "metadata": {},
   "outputs": [
    {
     "name": "stdout",
     "output_type": "stream",
     "text": [
      "n = 6\n",
      "{1: 1, 2: 4, 3: 9, 4: 16, 5: 25, 6: 36}\n"
     ]
    }
   ],
   "source": [
    "# Question 4 : \n",
    "result = {}\n",
    "n = int(input(\"n = \"))\n",
    "for i in range (n):\n",
    "    result [i+1] = (i+1)**2\n",
    "print(result)"
   ]
  },
  {
   "cell_type": "code",
   "execution_count": 36,
   "id": "a656bbd4",
   "metadata": {},
   "outputs": [
    {
     "name": "stdout",
     "output_type": "stream",
     "text": [
      "[('item3', '24.5'), ('item2', '15.10'), ('item1', '12.20')]\n"
     ]
    }
   ],
   "source": [
    "# Question 5 ; method 1 :\n",
    "def second_item(x):\n",
    "    return float(x [1])\n",
    "L = [('item1', '12.20'), ('item2', '15.10'), ('item3', '24.5')]\n",
    "L.sort(key = second_item,reverse = True)\n",
    "print(L)"
   ]
  },
  {
   "cell_type": "code",
   "execution_count": 35,
   "id": "bfc4aa34",
   "metadata": {},
   "outputs": [
    {
     "name": "stdout",
     "output_type": "stream",
     "text": [
      "[('item3', '24.5'), ('item2', '15.10'), ('item1', '12.20')]\n"
     ]
    }
   ],
   "source": [
    "# Question 5 ; method 2 :\n",
    "L = [('item1', '12.20'), ('item2', '15.10'), ('item3', '24.5')]\n",
    "result = []\n",
    "y = 0\n",
    "while L != []:\n",
    "    for item in L:\n",
    "        if float(item [1]) * 100 == y:\n",
    "            result.insert(0,item)\n",
    "            L.remove (item)\n",
    "    y += 1\n",
    "print(result)"
   ]
  }
 ],
 "metadata": {
  "kernelspec": {
   "display_name": "Python 3",
   "language": "python",
   "name": "python3"
  },
  "language_info": {
   "codemirror_mode": {
    "name": "ipython",
    "version": 3
   },
   "file_extension": ".py",
   "mimetype": "text/x-python",
   "name": "python",
   "nbconvert_exporter": "python",
   "pygments_lexer": "ipython3",
   "version": "3.8.8"
  }
 },
 "nbformat": 4,
 "nbformat_minor": 5
}
